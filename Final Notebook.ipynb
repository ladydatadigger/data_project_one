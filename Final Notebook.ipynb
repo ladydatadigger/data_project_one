{
 "cells": [
  {
   "cell_type": "code",
   "execution_count": 2,
   "metadata": {},
   "outputs": [],
   "source": [
    "#import dependencies \n",
    "import pandas as pd\n",
    "import matplotlib.pyplot as plt \n",
    "import numpy as np \n",
    "import matplotlib.patches as mpatches\n"
   ]
  },
  {
   "cell_type": "code",
   "execution_count": 3,
   "metadata": {},
   "outputs": [
    {
     "ename": "FileNotFoundError",
     "evalue": "[Errno 2] File b'Resources/Crime_data/fatal-police-shootings-data.csv' does not exist: b'Resources/Crime_data/fatal-police-shootings-data.csv'",
     "output_type": "error",
     "traceback": [
      "\u001b[0;31m---------------------------------------------------------------------------\u001b[0m",
      "\u001b[0;31mFileNotFoundError\u001b[0m                         Traceback (most recent call last)",
      "\u001b[0;32m<ipython-input-3-ade2ef12465f>\u001b[0m in \u001b[0;36m<module>\u001b[0;34m\u001b[0m\n\u001b[1;32m      2\u001b[0m \u001b[0mcrime_data\u001b[0m \u001b[0;34m=\u001b[0m \u001b[0;34m'Resources/Crime_data/fatal-police-shootings-data.csv'\u001b[0m\u001b[0;34m\u001b[0m\u001b[0;34m\u001b[0m\u001b[0m\n\u001b[1;32m      3\u001b[0m \u001b[0;31m#Read data file\u001b[0m\u001b[0;34m\u001b[0m\u001b[0;34m\u001b[0m\u001b[0;34m\u001b[0m\u001b[0m\n\u001b[0;32m----> 4\u001b[0;31m \u001b[0mcrime_df\u001b[0m \u001b[0;34m=\u001b[0m \u001b[0mpd\u001b[0m\u001b[0;34m.\u001b[0m\u001b[0mread_csv\u001b[0m\u001b[0;34m(\u001b[0m\u001b[0mcrime_data\u001b[0m\u001b[0;34m)\u001b[0m\u001b[0;34m\u001b[0m\u001b[0;34m\u001b[0m\u001b[0m\n\u001b[0m\u001b[1;32m      5\u001b[0m \u001b[0mcrime_df\u001b[0m\u001b[0;34m.\u001b[0m\u001b[0mhead\u001b[0m\u001b[0;34m(\u001b[0m\u001b[0;34m)\u001b[0m\u001b[0;34m\u001b[0m\u001b[0;34m\u001b[0m\u001b[0m\n",
      "\u001b[0;32m~/anaconda3/envs/PythonData/lib/python3.6/site-packages/pandas/io/parsers.py\u001b[0m in \u001b[0;36mparser_f\u001b[0;34m(filepath_or_buffer, sep, delimiter, header, names, index_col, usecols, squeeze, prefix, mangle_dupe_cols, dtype, engine, converters, true_values, false_values, skipinitialspace, skiprows, skipfooter, nrows, na_values, keep_default_na, na_filter, verbose, skip_blank_lines, parse_dates, infer_datetime_format, keep_date_col, date_parser, dayfirst, iterator, chunksize, compression, thousands, decimal, lineterminator, quotechar, quoting, doublequote, escapechar, comment, encoding, dialect, tupleize_cols, error_bad_lines, warn_bad_lines, delim_whitespace, low_memory, memory_map, float_precision)\u001b[0m\n\u001b[1;32m    700\u001b[0m                     skip_blank_lines=skip_blank_lines)\n\u001b[1;32m    701\u001b[0m \u001b[0;34m\u001b[0m\u001b[0m\n\u001b[0;32m--> 702\u001b[0;31m         \u001b[0;32mreturn\u001b[0m \u001b[0m_read\u001b[0m\u001b[0;34m(\u001b[0m\u001b[0mfilepath_or_buffer\u001b[0m\u001b[0;34m,\u001b[0m \u001b[0mkwds\u001b[0m\u001b[0;34m)\u001b[0m\u001b[0;34m\u001b[0m\u001b[0;34m\u001b[0m\u001b[0m\n\u001b[0m\u001b[1;32m    703\u001b[0m \u001b[0;34m\u001b[0m\u001b[0m\n\u001b[1;32m    704\u001b[0m     \u001b[0mparser_f\u001b[0m\u001b[0;34m.\u001b[0m\u001b[0m__name__\u001b[0m \u001b[0;34m=\u001b[0m \u001b[0mname\u001b[0m\u001b[0;34m\u001b[0m\u001b[0;34m\u001b[0m\u001b[0m\n",
      "\u001b[0;32m~/anaconda3/envs/PythonData/lib/python3.6/site-packages/pandas/io/parsers.py\u001b[0m in \u001b[0;36m_read\u001b[0;34m(filepath_or_buffer, kwds)\u001b[0m\n\u001b[1;32m    427\u001b[0m \u001b[0;34m\u001b[0m\u001b[0m\n\u001b[1;32m    428\u001b[0m     \u001b[0;31m# Create the parser.\u001b[0m\u001b[0;34m\u001b[0m\u001b[0;34m\u001b[0m\u001b[0;34m\u001b[0m\u001b[0m\n\u001b[0;32m--> 429\u001b[0;31m     \u001b[0mparser\u001b[0m \u001b[0;34m=\u001b[0m \u001b[0mTextFileReader\u001b[0m\u001b[0;34m(\u001b[0m\u001b[0mfilepath_or_buffer\u001b[0m\u001b[0;34m,\u001b[0m \u001b[0;34m**\u001b[0m\u001b[0mkwds\u001b[0m\u001b[0;34m)\u001b[0m\u001b[0;34m\u001b[0m\u001b[0;34m\u001b[0m\u001b[0m\n\u001b[0m\u001b[1;32m    430\u001b[0m \u001b[0;34m\u001b[0m\u001b[0m\n\u001b[1;32m    431\u001b[0m     \u001b[0;32mif\u001b[0m \u001b[0mchunksize\u001b[0m \u001b[0;32mor\u001b[0m \u001b[0miterator\u001b[0m\u001b[0;34m:\u001b[0m\u001b[0;34m\u001b[0m\u001b[0;34m\u001b[0m\u001b[0m\n",
      "\u001b[0;32m~/anaconda3/envs/PythonData/lib/python3.6/site-packages/pandas/io/parsers.py\u001b[0m in \u001b[0;36m__init__\u001b[0;34m(self, f, engine, **kwds)\u001b[0m\n\u001b[1;32m    893\u001b[0m             \u001b[0mself\u001b[0m\u001b[0;34m.\u001b[0m\u001b[0moptions\u001b[0m\u001b[0;34m[\u001b[0m\u001b[0;34m'has_index_names'\u001b[0m\u001b[0;34m]\u001b[0m \u001b[0;34m=\u001b[0m \u001b[0mkwds\u001b[0m\u001b[0;34m[\u001b[0m\u001b[0;34m'has_index_names'\u001b[0m\u001b[0;34m]\u001b[0m\u001b[0;34m\u001b[0m\u001b[0;34m\u001b[0m\u001b[0m\n\u001b[1;32m    894\u001b[0m \u001b[0;34m\u001b[0m\u001b[0m\n\u001b[0;32m--> 895\u001b[0;31m         \u001b[0mself\u001b[0m\u001b[0;34m.\u001b[0m\u001b[0m_make_engine\u001b[0m\u001b[0;34m(\u001b[0m\u001b[0mself\u001b[0m\u001b[0;34m.\u001b[0m\u001b[0mengine\u001b[0m\u001b[0;34m)\u001b[0m\u001b[0;34m\u001b[0m\u001b[0;34m\u001b[0m\u001b[0m\n\u001b[0m\u001b[1;32m    896\u001b[0m \u001b[0;34m\u001b[0m\u001b[0m\n\u001b[1;32m    897\u001b[0m     \u001b[0;32mdef\u001b[0m \u001b[0mclose\u001b[0m\u001b[0;34m(\u001b[0m\u001b[0mself\u001b[0m\u001b[0;34m)\u001b[0m\u001b[0;34m:\u001b[0m\u001b[0;34m\u001b[0m\u001b[0;34m\u001b[0m\u001b[0m\n",
      "\u001b[0;32m~/anaconda3/envs/PythonData/lib/python3.6/site-packages/pandas/io/parsers.py\u001b[0m in \u001b[0;36m_make_engine\u001b[0;34m(self, engine)\u001b[0m\n\u001b[1;32m   1120\u001b[0m     \u001b[0;32mdef\u001b[0m \u001b[0m_make_engine\u001b[0m\u001b[0;34m(\u001b[0m\u001b[0mself\u001b[0m\u001b[0;34m,\u001b[0m \u001b[0mengine\u001b[0m\u001b[0;34m=\u001b[0m\u001b[0;34m'c'\u001b[0m\u001b[0;34m)\u001b[0m\u001b[0;34m:\u001b[0m\u001b[0;34m\u001b[0m\u001b[0;34m\u001b[0m\u001b[0m\n\u001b[1;32m   1121\u001b[0m         \u001b[0;32mif\u001b[0m \u001b[0mengine\u001b[0m \u001b[0;34m==\u001b[0m \u001b[0;34m'c'\u001b[0m\u001b[0;34m:\u001b[0m\u001b[0;34m\u001b[0m\u001b[0;34m\u001b[0m\u001b[0m\n\u001b[0;32m-> 1122\u001b[0;31m             \u001b[0mself\u001b[0m\u001b[0;34m.\u001b[0m\u001b[0m_engine\u001b[0m \u001b[0;34m=\u001b[0m \u001b[0mCParserWrapper\u001b[0m\u001b[0;34m(\u001b[0m\u001b[0mself\u001b[0m\u001b[0;34m.\u001b[0m\u001b[0mf\u001b[0m\u001b[0;34m,\u001b[0m \u001b[0;34m**\u001b[0m\u001b[0mself\u001b[0m\u001b[0;34m.\u001b[0m\u001b[0moptions\u001b[0m\u001b[0;34m)\u001b[0m\u001b[0;34m\u001b[0m\u001b[0;34m\u001b[0m\u001b[0m\n\u001b[0m\u001b[1;32m   1123\u001b[0m         \u001b[0;32melse\u001b[0m\u001b[0;34m:\u001b[0m\u001b[0;34m\u001b[0m\u001b[0;34m\u001b[0m\u001b[0m\n\u001b[1;32m   1124\u001b[0m             \u001b[0;32mif\u001b[0m \u001b[0mengine\u001b[0m \u001b[0;34m==\u001b[0m \u001b[0;34m'python'\u001b[0m\u001b[0;34m:\u001b[0m\u001b[0;34m\u001b[0m\u001b[0;34m\u001b[0m\u001b[0m\n",
      "\u001b[0;32m~/anaconda3/envs/PythonData/lib/python3.6/site-packages/pandas/io/parsers.py\u001b[0m in \u001b[0;36m__init__\u001b[0;34m(self, src, **kwds)\u001b[0m\n\u001b[1;32m   1851\u001b[0m         \u001b[0mkwds\u001b[0m\u001b[0;34m[\u001b[0m\u001b[0;34m'usecols'\u001b[0m\u001b[0;34m]\u001b[0m \u001b[0;34m=\u001b[0m \u001b[0mself\u001b[0m\u001b[0;34m.\u001b[0m\u001b[0musecols\u001b[0m\u001b[0;34m\u001b[0m\u001b[0;34m\u001b[0m\u001b[0m\n\u001b[1;32m   1852\u001b[0m \u001b[0;34m\u001b[0m\u001b[0m\n\u001b[0;32m-> 1853\u001b[0;31m         \u001b[0mself\u001b[0m\u001b[0;34m.\u001b[0m\u001b[0m_reader\u001b[0m \u001b[0;34m=\u001b[0m \u001b[0mparsers\u001b[0m\u001b[0;34m.\u001b[0m\u001b[0mTextReader\u001b[0m\u001b[0;34m(\u001b[0m\u001b[0msrc\u001b[0m\u001b[0;34m,\u001b[0m \u001b[0;34m**\u001b[0m\u001b[0mkwds\u001b[0m\u001b[0;34m)\u001b[0m\u001b[0;34m\u001b[0m\u001b[0;34m\u001b[0m\u001b[0m\n\u001b[0m\u001b[1;32m   1854\u001b[0m         \u001b[0mself\u001b[0m\u001b[0;34m.\u001b[0m\u001b[0munnamed_cols\u001b[0m \u001b[0;34m=\u001b[0m \u001b[0mself\u001b[0m\u001b[0;34m.\u001b[0m\u001b[0m_reader\u001b[0m\u001b[0;34m.\u001b[0m\u001b[0munnamed_cols\u001b[0m\u001b[0;34m\u001b[0m\u001b[0;34m\u001b[0m\u001b[0m\n\u001b[1;32m   1855\u001b[0m \u001b[0;34m\u001b[0m\u001b[0m\n",
      "\u001b[0;32mpandas/_libs/parsers.pyx\u001b[0m in \u001b[0;36mpandas._libs.parsers.TextReader.__cinit__\u001b[0;34m()\u001b[0m\n",
      "\u001b[0;32mpandas/_libs/parsers.pyx\u001b[0m in \u001b[0;36mpandas._libs.parsers.TextReader._setup_parser_source\u001b[0;34m()\u001b[0m\n",
      "\u001b[0;31mFileNotFoundError\u001b[0m: [Errno 2] File b'Resources/Crime_data/fatal-police-shootings-data.csv' does not exist: b'Resources/Crime_data/fatal-police-shootings-data.csv'"
     ]
    }
   ],
   "source": [
    "# Load data file\n",
    "crime_data = 'Resources/Crime_data/fatal-police-shootings-data.csv'\n",
    "#Read data file\n",
    "crime_df = pd.read_csv(crime_data)\n",
    "crime_df.head()"
   ]
  },
  {
   "cell_type": "code",
   "execution_count": null,
   "metadata": {},
   "outputs": [],
   "source": [
    "#Collect year, age, armed, mental illness, gender, age, flee, body camera, states \n",
    "#Race had the most discrepancy --> \n",
    "crime_df_new = crime_df[['date', 'armed', 'age', 'gender', 'race', 'city','state', 'signs_of_mental_illness', 'flee', 'body_camera']]\n",
    "crime_df_new\n",
    "crime_df_rename = crime_df_new.rename(columns = {'date': 'Date of Incident', \n",
    "                                                'armed': 'Weapon Used',\n",
    "                                                'age': 'Age',\n",
    "                                                'gender': 'Gender',\n",
    "                                                'race':'Race',\n",
    "                                                 'city':'City', \n",
    "                                                'state': 'State',\n",
    "                                                'signs_of_mental_illness': 'Mental Illness',\n",
    "                                                'flee': 'Flee',\n",
    "                                                'body_camera': 'Body Camera'})\n",
    "\n",
    "#Assign Date of Incidient to a new variable \n",
    "crime_df_rename['Date of Incident']= pd.to_datetime(crime_df_rename['Date of Incident'])\n",
    "\n",
    "\n",
    "#Filter incidents between 01-01-2015 to 12-31-2018 only \n",
    "mask = (crime_df_rename['Date of Incident'] > '2015-01-01') &(crime_df_rename['Date of Incident'] <='2018-12-31')\n",
    "\n",
    "\n",
    "#Create new DF from the filtered dates \n",
    "clean_date = crime_df_rename.loc[mask]\n",
    "clean_date.head()"
   ]
  },
  {
   "cell_type": "code",
   "execution_count": null,
   "metadata": {},
   "outputs": [],
   "source": [
    "#Count number of rows to account of NaN values \n",
    "clean_date.count()"
   ]
  },
  {
   "cell_type": "code",
   "execution_count": null,
   "metadata": {},
   "outputs": [],
   "source": [
    "#Dropping rows with NaN values \n",
    "df = clean_date.dropna(how='any')\n",
    "df.count()"
   ]
  },
  {
   "cell_type": "code",
   "execution_count": null,
   "metadata": {},
   "outputs": [],
   "source": [
    " # Create bins for age groups \n",
    "bins = [5, 17, 30, 50, 70, 90]\n",
    "\n",
    "# Create labels for these bins\n",
    "group_labels = [\"5-17\", \"18-30\", \"31-50\", \"51-70\", \"71-90\"]\n",
    "       \n",
    "age = pd.cut(df[\"Age\"], bins, labels=group_labels).head()\n",
    "\n",
    "df[\"Age Range\"] = pd.cut(df[\"Age\"], bins, labels=group_labels)\n",
    "df.head()"
   ]
  },
  {
   "cell_type": "code",
   "execution_count": null,
   "metadata": {},
   "outputs": [],
   "source": [
    "#bin by year\n",
    "cut_points = pd.to_datetime([np.datetime64('2015-01-01'), np.datetime64('2015-12-31'), np.datetime64('2016-12-31'), np.datetime64('2017-12-31'), np.datetime64('2018-12-31')])\n",
    "group_names = [\"2015\", \"2016\", \"2017\", \"2018\"]\n",
    "df[\"Year\"] = pd.cut(df['Date of Incident'], cut_points, labels=group_names)\n",
    "df.head()"
   ]
  },
  {
   "cell_type": "markdown",
   "metadata": {},
   "source": [
    "# Common Weapons (Dan)"
   ]
  },
  {
   "cell_type": "markdown",
   "metadata": {},
   "source": [
    "## Weapons DataFrame and Bar Graph Subplot"
   ]
  },
  {
   "cell_type": "code",
   "execution_count": null,
   "metadata": {},
   "outputs": [],
   "source": [
    "# DataFrame Column Method\n",
    "weapons_list_df = df[[\"year\",\"armed\"]]\n",
    "weapons_list_df = weapons_list_df.groupby(\"year\")\n",
    "\n",
    "count_list = weapons_list_df[\"armed\"].value_counts().to_frame()\n",
    "count_list = count_list.rename(columns={\"armed\": \"count\"})\n",
    "count_list = count_list.reset_index()\n",
    "count_list = count_list.groupby(\"year\").head()\n",
    "\n",
    "# Creating sub dfs from main df and saving as keys in a dictionary\n",
    "most_common_weapons = {}\n",
    "year_list = [\"2015\",\"2016\",\"2017\",\"2018\"]\n",
    "\n",
    "for thing in year_list:\n",
    "    most_common_weapons[thing] = count_list.loc[count_list[\"year\"]==thing]"
   ]
  },
  {
   "cell_type": "code",
   "execution_count": null,
   "metadata": {},
   "outputs": [],
   "source": [
    "# The Subplot\n",
    "fig, ((ax1, ax2), (ax3, ax4)) = plt.subplots(2, 2, figsize=(16, 12), sharey=True)\n",
    "fig.text(0.5, 0.04, 'Type of Weapon', ha='center', fontsize=28, fontweight=\"bold\")\n",
    "fig.text(0.04, 0.5, 'Incidence Count', va='center', rotation='vertical', fontsize=28, fontweight=\"bold\")\n",
    "\n",
    "# plt.suptitle(\"Most Commonly Used Weapons in Cases of Fatal Police Shootings\", fontsize=24, fontweight=\"bold\")\n",
    "\n",
    "\n",
    "# Each Axis\n",
    "\n",
    "\n",
    "# 2015\n",
    "x_axis_2015 = np.arange(len(most_common_weapons[\"2015\"][\"armed\"]))\n",
    "y_axis_2015 = most_common_weapons[\"2015\"][\"count\"]\n",
    "\n",
    "ax1.bar(x_axis_2015, y_axis_2015, color=['crimson', 'goldenrod', 'cadetblue', 'orange', 'dimgrey'])\n",
    "ax1.set_ylim([0, 580])\n",
    "ax1.title.set_text(\"2015\")\n",
    "ax1.title.set_size(24)\n",
    "\n",
    "tick_locations_2015 = [value for value in x_axis_2015]\n",
    "ax1.set_xticks(tick_locations_2015)\n",
    "ax1.set_xticklabels(most_common_weapons[\"2015\"][\"armed\"])\n",
    "\n",
    "ax1.tick_params(axis='x', labelsize=10)\n",
    "# ax1.tick_params(\n",
    "#     axis='x',          # changes apply to the x-axis\n",
    "#     which='both',      # both major and minor ticks are affected\n",
    "#     bottom=False,      # ticks along the bottom edge are off\n",
    "#     top=False,         # ticks along the top edge are off\n",
    "#     labelbottom=False)\n",
    "ax1.tick_params(axis='y', labelsize=18)\n",
    "\n",
    "ax1.set_axisbelow(True)\n",
    "ax1.yaxis.grid(color='gray', linestyle='dashed')\n",
    "\n",
    "# 2016\n",
    "x_axis_2016 = np.arange(len(most_common_weapons[\"2016\"][\"armed\"]))\n",
    "y_axis_2016 = most_common_weapons[\"2016\"][\"count\"]\n",
    "\n",
    "ax2.bar(x_axis_2016, y_axis_2016, color=['crimson', 'goldenrod', 'dimgrey', 'cadetblue', 'orange'])\n",
    "ax2.set_ylim([0, 580])\n",
    "ax2.title.set_text(\"2016\")\n",
    "ax2.title.set_size(24)\n",
    "\n",
    "tick_locations_2016 = [value for value in x_axis_2016]\n",
    "ax2.set_xticks(tick_locations_2016)\n",
    "ax2.set_xticklabels(most_common_weapons[\"2016\"][\"armed\"])\n",
    "\n",
    "ax2.tick_params(axis='x', labelsize=10)\n",
    "# ax2.tick_params(\n",
    "#     axis='x',          # changes apply to the x-axis\n",
    "#     which='both',      # both major and minor ticks are affected\n",
    "#     bottom=False,      # ticks along the bottom edge are off\n",
    "#     top=False,         # ticks along the top edge are off\n",
    "#     labelbottom=False)\n",
    "ax2.tick_params(axis='y', labelsize=18)\n",
    "\n",
    "ax2.set_axisbelow(True)\n",
    "ax2.yaxis.grid(color='gray', linestyle='dashed')\n",
    "\n",
    "\n",
    "# 2017\n",
    "x_axis_2017 = np.arange(len(most_common_weapons[\"2017\"][\"armed\"]))\n",
    "y_axis_2017 = most_common_weapons[\"2017\"][\"count\"]\n",
    "\n",
    "ax3.bar(x_axis_2017, y_axis_2017, color=['crimson', 'goldenrod', 'cadetblue', 'orange', 'dimgrey'])\n",
    "ax3.set_ylim([0, 580])\n",
    "ax3.title.set_text(\"2017\")\n",
    "ax3.title.set_size(24)\n",
    "\n",
    "tick_locations_2017 = [value for value in x_axis_2017]\n",
    "ax3.set_xticks(tick_locations_2017)\n",
    "ax3.set_xticklabels(most_common_weapons[\"2017\"][\"armed\"])\n",
    "\n",
    "ax3.tick_params(axis='x', labelsize=10)\n",
    "# ax3.tick_params(\n",
    "#     axis='x',          # changes apply to the x-axis\n",
    "#     which='both',      # both major and minor ticks are affected\n",
    "#     bottom=False,      # ticks along the bottom edge are off\n",
    "#     top=False,         # ticks along the top edge are off\n",
    "#     labelbottom=False)\n",
    "ax3.tick_params(axis='y', labelsize=18)\n",
    "\n",
    "ax3.set_axisbelow(True)\n",
    "ax3.yaxis.grid(color='gray', linestyle='dashed')\n",
    "\n",
    "\n",
    "# 2018\n",
    "x_axis_2018 = np.arange(len(most_common_weapons[\"2018\"][\"armed\"]))\n",
    "y_axis_2018 = most_common_weapons[\"2018\"][\"count\"]\n",
    "\n",
    "ax4.bar(x_axis_2018, y_axis_2018, color=['crimson', 'goldenrod', 'cadetblue', 'lightcoral', 'dimgrey'])\n",
    "ax4.set_ylim([0, 580])\n",
    "ax4.title.set_text(\"2018\")\n",
    "ax4.title.set_size(24)\n",
    "\n",
    "tick_locations_2018 = [value for value in x_axis_2018]\n",
    "ax4.set_xticks(tick_locations_2018)\n",
    "ax4.set_xticklabels(most_common_weapons[\"2018\"][\"armed\"])\n",
    "\n",
    "ax4.tick_params(axis='x', labelsize=10)\n",
    "# ax4.tick_params(\n",
    "#     axis='x',          # changes apply to the x-axis\n",
    "#     which='both',      # both major and minor ticks are affected\n",
    "#     bottom=False,      # ticks along the bottom edge are off\n",
    "#     top=False,         # ticks along the top edge are off\n",
    "#     labelbottom=False)\n",
    "ax4.tick_params(axis='y', labelsize=18)\n",
    "\n",
    "ax4.set_axisbelow(True)\n",
    "ax4.yaxis.grid(color='gray', linestyle='dashed')\n",
    "\n",
    "# Saving Figure\n",
    "plt.savefig(\"Output/common_weapons.jpg\")"
   ]
  },
  {
   "cell_type": "code",
   "execution_count": null,
   "metadata": {},
   "outputs": [],
   "source": []
  }
 ],
 "metadata": {
  "kernelspec": {
   "display_name": "Python 3",
   "language": "python",
   "name": "python3"
  },
  "language_info": {
   "codemirror_mode": {
    "name": "ipython",
    "version": 3
   },
   "file_extension": ".py",
   "mimetype": "text/x-python",
   "name": "python",
   "nbconvert_exporter": "python",
   "pygments_lexer": "ipython3",
   "version": "3.6.8"
  }
 },
 "nbformat": 4,
 "nbformat_minor": 2
}
