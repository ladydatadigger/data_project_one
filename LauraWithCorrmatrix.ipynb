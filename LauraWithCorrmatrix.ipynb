{
 "cells": [
  {
   "cell_type": "code",
   "execution_count": 3,
   "metadata": {},
   "outputs": [],
   "source": [
    "import pandas as pd\n",
    "import numpy as np\n",
    "import matplotlib.pyplot as plt\n",
    "import seaborn as sns\n",
    "%matplotlib inline"
   ]
  },
  {
   "cell_type": "code",
   "execution_count": 4,
   "metadata": {},
   "outputs": [
    {
     "data": {
      "text/html": [
       "<div>\n",
       "<style scoped>\n",
       "    .dataframe tbody tr th:only-of-type {\n",
       "        vertical-align: middle;\n",
       "    }\n",
       "\n",
       "    .dataframe tbody tr th {\n",
       "        vertical-align: top;\n",
       "    }\n",
       "\n",
       "    .dataframe thead th {\n",
       "        text-align: right;\n",
       "    }\n",
       "</style>\n",
       "<table border=\"1\" class=\"dataframe\">\n",
       "  <thead>\n",
       "    <tr style=\"text-align: right;\">\n",
       "      <th></th>\n",
       "      <th>Date</th>\n",
       "      <th>Armed</th>\n",
       "      <th>Age</th>\n",
       "      <th>Gender</th>\n",
       "      <th>Race</th>\n",
       "      <th>State</th>\n",
       "      <th>Sign of Mental Illness</th>\n",
       "      <th>Flee</th>\n",
       "      <th>Body Camera</th>\n",
       "    </tr>\n",
       "  </thead>\n",
       "  <tbody>\n",
       "    <tr>\n",
       "      <th>0</th>\n",
       "      <td>12/21/2017</td>\n",
       "      <td>unarmed</td>\n",
       "      <td>6.0</td>\n",
       "      <td>M</td>\n",
       "      <td>W</td>\n",
       "      <td>TX</td>\n",
       "      <td>False</td>\n",
       "      <td>Not fleeing</td>\n",
       "      <td>False</td>\n",
       "    </tr>\n",
       "    <tr>\n",
       "      <th>1</th>\n",
       "      <td>1/6/2015</td>\n",
       "      <td>unarmed</td>\n",
       "      <td>34.0</td>\n",
       "      <td>F</td>\n",
       "      <td>W</td>\n",
       "      <td>IA</td>\n",
       "      <td>False</td>\n",
       "      <td>Not fleeing</td>\n",
       "      <td>True</td>\n",
       "    </tr>\n",
       "    <tr>\n",
       "      <th>2</th>\n",
       "      <td>1/11/2016</td>\n",
       "      <td>unarmed</td>\n",
       "      <td>12.0</td>\n",
       "      <td>F</td>\n",
       "      <td>W</td>\n",
       "      <td>PA</td>\n",
       "      <td>False</td>\n",
       "      <td>Not fleeing</td>\n",
       "      <td>False</td>\n",
       "    </tr>\n",
       "    <tr>\n",
       "      <th>3</th>\n",
       "      <td>9/14/2016</td>\n",
       "      <td>toy weapon</td>\n",
       "      <td>13.0</td>\n",
       "      <td>M</td>\n",
       "      <td>B</td>\n",
       "      <td>OH</td>\n",
       "      <td>False</td>\n",
       "      <td>Foot</td>\n",
       "      <td>False</td>\n",
       "    </tr>\n",
       "    <tr>\n",
       "      <th>4</th>\n",
       "      <td>1/7/2015</td>\n",
       "      <td>gun</td>\n",
       "      <td>37.0</td>\n",
       "      <td>M</td>\n",
       "      <td>B</td>\n",
       "      <td>LA</td>\n",
       "      <td>False</td>\n",
       "      <td>Foot</td>\n",
       "      <td>True</td>\n",
       "    </tr>\n",
       "  </tbody>\n",
       "</table>\n",
       "</div>"
      ],
      "text/plain": [
       "         Date       Armed   Age Gender Race State  Sign of Mental Illness  \\\n",
       "0  12/21/2017     unarmed   6.0      M    W    TX                   False   \n",
       "1    1/6/2015     unarmed  34.0      F    W    IA                   False   \n",
       "2   1/11/2016     unarmed  12.0      F    W    PA                   False   \n",
       "3   9/14/2016  toy weapon  13.0      M    B    OH                   False   \n",
       "4    1/7/2015         gun  37.0      M    B    LA                   False   \n",
       "\n",
       "          Flee  Body Camera  \n",
       "0  Not fleeing        False  \n",
       "1  Not fleeing         True  \n",
       "2  Not fleeing        False  \n",
       "3         Foot        False  \n",
       "4         Foot         True  "
      ]
     },
     "execution_count": 4,
     "metadata": {},
     "output_type": "execute_result"
    }
   ],
   "source": [
    "#read file \n",
    "orig_file = pd.read_csv(\"./Resources/fatal-police-shootings-data.csv\")\n",
    "clean_file = orig_file [[\"date\", \"armed\", \"age\", \"gender\", \"race\", \"state\", \n",
    "                         \"signs_of_mental_illness\", \"flee\", \"body_camera\"]]\n",
    "clean_file = clean_file.rename(columns={\"date\":\"Date\", \n",
    "                                        \"armed\":\"Armed\", \n",
    "                                        \"age\":\"Age\", \n",
    "                                        \"gender\":\"Gender\", \n",
    "                                        \"race\":\"Race\", \n",
    "                                        \"state\":\"State\",\n",
    "                                        \"signs_of_mental_illness\": \"Sign of Mental Illness\", \n",
    "                                        \"flee\":\"Flee\", \n",
    "                                        \"body_camera\": \"Body Camera\"})\n",
    "\n",
    "clean_file.head()"
   ]
  },
  {
   "cell_type": "code",
   "execution_count": 5,
   "metadata": {},
   "outputs": [
    {
     "data": {
      "text/plain": [
       "Date                      4377\n",
       "Armed                     4130\n",
       "Age                       4191\n",
       "Gender                    4372\n",
       "Race                      3856\n",
       "State                     4377\n",
       "Sign of Mental Illness    4377\n",
       "Flee                      4203\n",
       "Body Camera               4377\n",
       "dtype: int64"
      ]
     },
     "execution_count": 5,
     "metadata": {},
     "output_type": "execute_result"
    }
   ],
   "source": [
    "clean_file.count()"
   ]
  },
  {
   "cell_type": "code",
   "execution_count": 6,
   "metadata": {},
   "outputs": [
    {
     "data": {
      "text/html": [
       "<div>\n",
       "<style scoped>\n",
       "    .dataframe tbody tr th:only-of-type {\n",
       "        vertical-align: middle;\n",
       "    }\n",
       "\n",
       "    .dataframe tbody tr th {\n",
       "        vertical-align: top;\n",
       "    }\n",
       "\n",
       "    .dataframe thead th {\n",
       "        text-align: right;\n",
       "    }\n",
       "</style>\n",
       "<table border=\"1\" class=\"dataframe\">\n",
       "  <thead>\n",
       "    <tr style=\"text-align: right;\">\n",
       "      <th></th>\n",
       "      <th>Date</th>\n",
       "      <th>Armed</th>\n",
       "      <th>Age</th>\n",
       "      <th>Gender</th>\n",
       "      <th>Race</th>\n",
       "      <th>State</th>\n",
       "      <th>Sign of Mental Illness</th>\n",
       "      <th>Flee</th>\n",
       "      <th>Body Camera</th>\n",
       "    </tr>\n",
       "  </thead>\n",
       "  <tbody>\n",
       "    <tr>\n",
       "      <th>0</th>\n",
       "      <td>2017-12-21</td>\n",
       "      <td>unarmed</td>\n",
       "      <td>6.0</td>\n",
       "      <td>M</td>\n",
       "      <td>W</td>\n",
       "      <td>TX</td>\n",
       "      <td>False</td>\n",
       "      <td>Not fleeing</td>\n",
       "      <td>False</td>\n",
       "    </tr>\n",
       "    <tr>\n",
       "      <th>1</th>\n",
       "      <td>2015-01-06</td>\n",
       "      <td>unarmed</td>\n",
       "      <td>34.0</td>\n",
       "      <td>F</td>\n",
       "      <td>W</td>\n",
       "      <td>IA</td>\n",
       "      <td>False</td>\n",
       "      <td>Not fleeing</td>\n",
       "      <td>True</td>\n",
       "    </tr>\n",
       "    <tr>\n",
       "      <th>2</th>\n",
       "      <td>2016-01-11</td>\n",
       "      <td>unarmed</td>\n",
       "      <td>12.0</td>\n",
       "      <td>F</td>\n",
       "      <td>W</td>\n",
       "      <td>PA</td>\n",
       "      <td>False</td>\n",
       "      <td>Not fleeing</td>\n",
       "      <td>False</td>\n",
       "    </tr>\n",
       "    <tr>\n",
       "      <th>3</th>\n",
       "      <td>2016-09-14</td>\n",
       "      <td>toy weapon</td>\n",
       "      <td>13.0</td>\n",
       "      <td>M</td>\n",
       "      <td>B</td>\n",
       "      <td>OH</td>\n",
       "      <td>False</td>\n",
       "      <td>Foot</td>\n",
       "      <td>False</td>\n",
       "    </tr>\n",
       "    <tr>\n",
       "      <th>4</th>\n",
       "      <td>2015-01-07</td>\n",
       "      <td>gun</td>\n",
       "      <td>37.0</td>\n",
       "      <td>M</td>\n",
       "      <td>B</td>\n",
       "      <td>LA</td>\n",
       "      <td>False</td>\n",
       "      <td>Foot</td>\n",
       "      <td>True</td>\n",
       "    </tr>\n",
       "  </tbody>\n",
       "</table>\n",
       "</div>"
      ],
      "text/plain": [
       "        Date       Armed   Age Gender Race State  Sign of Mental Illness  \\\n",
       "0 2017-12-21     unarmed   6.0      M    W    TX                   False   \n",
       "1 2015-01-06     unarmed  34.0      F    W    IA                   False   \n",
       "2 2016-01-11     unarmed  12.0      F    W    PA                   False   \n",
       "3 2016-09-14  toy weapon  13.0      M    B    OH                   False   \n",
       "4 2015-01-07         gun  37.0      M    B    LA                   False   \n",
       "\n",
       "          Flee  Body Camera  \n",
       "0  Not fleeing        False  \n",
       "1  Not fleeing         True  \n",
       "2  Not fleeing        False  \n",
       "3         Foot        False  \n",
       "4         Foot         True  "
      ]
     },
     "execution_count": 6,
     "metadata": {},
     "output_type": "execute_result"
    }
   ],
   "source": [
    "#clean for 2015-2018\n",
    "clean_file['Date'] = pd.to_datetime(clean_file['Date'])  \n",
    "# clean_file.head()\n",
    "mask = (clean_file['Date'] > '2015-01-01') & (clean_file['Date'] <= '2018-12-31')\n",
    "clean_date = clean_file.loc[mask]\n",
    "clean_date.head()"
   ]
  },
  {
   "cell_type": "code",
   "execution_count": 7,
   "metadata": {},
   "outputs": [
    {
     "data": {
      "text/plain": [
       "Date                      3934\n",
       "Armed                     3689\n",
       "Age                       3801\n",
       "Gender                    3931\n",
       "Race                      3656\n",
       "State                     3934\n",
       "Sign of Mental Illness    3934\n",
       "Flee                      3800\n",
       "Body Camera               3934\n",
       "dtype: int64"
      ]
     },
     "execution_count": 7,
     "metadata": {},
     "output_type": "execute_result"
    }
   ],
   "source": [
    "clean_date.count()"
   ]
  },
  {
   "cell_type": "code",
   "execution_count": 8,
   "metadata": {},
   "outputs": [
    {
     "data": {
      "text/plain": [
       "Date                      3272\n",
       "Armed                     3272\n",
       "Age                       3272\n",
       "Gender                    3272\n",
       "Race                      3272\n",
       "State                     3272\n",
       "Sign of Mental Illness    3272\n",
       "Flee                      3272\n",
       "Body Camera               3272\n",
       "dtype: int64"
      ]
     },
     "execution_count": 8,
     "metadata": {},
     "output_type": "execute_result"
    }
   ],
   "source": [
    "df = clean_date.dropna(how =\"any\")\n",
    "df.count()"
   ]
  },
  {
   "cell_type": "code",
   "execution_count": 9,
   "metadata": {
    "scrolled": true
   },
   "outputs": [
    {
     "data": {
      "text/plain": [
       "0      2017-12-21\n",
       "1      2015-01-06\n",
       "2      2016-01-11\n",
       "3      2016-09-14\n",
       "4      2015-01-07\n",
       "5      2017-11-08\n",
       "6      2015-01-08\n",
       "7      2015-06-14\n",
       "9      2015-10-15\n",
       "10     2016-04-19\n",
       "11     2015-01-08\n",
       "12     2017-04-24\n",
       "13     2015-01-13\n",
       "14     2017-08-03\n",
       "15     2017-09-15\n",
       "16     2017-11-20\n",
       "17     2018-08-18\n",
       "18     2018-01-17\n",
       "19     2016-03-13\n",
       "21     2015-01-14\n",
       "22     2015-02-14\n",
       "23     2015-02-23\n",
       "24     2015-03-19\n",
       "25     2015-11-15\n",
       "26     2015-01-17\n",
       "27     2016-02-24\n",
       "28     2016-03-20\n",
       "29     2016-04-11\n",
       "30     2015-02-11\n",
       "31     2015-02-28\n",
       "          ...    \n",
       "3768   2018-11-05\n",
       "3769   2017-03-28\n",
       "3770   2018-05-06\n",
       "3771   2016-12-12\n",
       "3772   2015-02-07\n",
       "3773   2017-05-23\n",
       "3774   2015-01-14\n",
       "3775   2017-06-07\n",
       "3776   2015-04-26\n",
       "3778   2015-09-01\n",
       "3779   2018-11-27\n",
       "3780   2016-11-01\n",
       "3781   2017-09-10\n",
       "3782   2018-10-10\n",
       "3783   2015-02-20\n",
       "3787   2017-04-24\n",
       "3788   2016-06-13\n",
       "3789   2018-04-05\n",
       "3790   2018-11-29\n",
       "3792   2015-04-12\n",
       "3793   2016-12-01\n",
       "3794   2018-02-12\n",
       "3795   2018-10-12\n",
       "3796   2018-03-07\n",
       "3800   2017-03-08\n",
       "3818   2018-11-30\n",
       "3821   2018-12-01\n",
       "3846   2018-12-04\n",
       "3860   2018-12-06\n",
       "3932   2018-12-31\n",
       "Name: Date, Length: 3272, dtype: datetime64[ns]"
      ]
     },
     "execution_count": 9,
     "metadata": {},
     "output_type": "execute_result"
    }
   ],
   "source": [
    "df[\"Date\"]"
   ]
  },
  {
   "cell_type": "code",
   "execution_count": 10,
   "metadata": {},
   "outputs": [],
   "source": [
    "cut_points = pd.to_datetime([np.datetime64('2015-01-01'), np.datetime64('2015-12-31'), np.datetime64('2016-12-31'), np.datetime64('2017-12-31'), np.datetime64('2018-12-31')])\n",
    "\n"
   ]
  },
  {
   "cell_type": "code",
   "execution_count": 11,
   "metadata": {},
   "outputs": [
    {
     "name": "stderr",
     "output_type": "stream",
     "text": [
      "/anaconda3/lib/python3.7/site-packages/ipykernel_launcher.py:4: SettingWithCopyWarning: \n",
      "A value is trying to be set on a copy of a slice from a DataFrame.\n",
      "Try using .loc[row_indexer,col_indexer] = value instead\n",
      "\n",
      "See the caveats in the documentation: http://pandas.pydata.org/pandas-docs/stable/indexing.html#indexing-view-versus-copy\n",
      "  after removing the cwd from sys.path.\n"
     ]
    },
    {
     "data": {
      "text/html": [
       "<div>\n",
       "<style scoped>\n",
       "    .dataframe tbody tr th:only-of-type {\n",
       "        vertical-align: middle;\n",
       "    }\n",
       "\n",
       "    .dataframe tbody tr th {\n",
       "        vertical-align: top;\n",
       "    }\n",
       "\n",
       "    .dataframe thead th {\n",
       "        text-align: right;\n",
       "    }\n",
       "</style>\n",
       "<table border=\"1\" class=\"dataframe\">\n",
       "  <thead>\n",
       "    <tr style=\"text-align: right;\">\n",
       "      <th></th>\n",
       "      <th>Date</th>\n",
       "      <th>Armed</th>\n",
       "      <th>Age</th>\n",
       "      <th>Gender</th>\n",
       "      <th>Race</th>\n",
       "      <th>State</th>\n",
       "      <th>Sign of Mental Illness</th>\n",
       "      <th>Flee</th>\n",
       "      <th>Body Camera</th>\n",
       "      <th>Year_bin</th>\n",
       "    </tr>\n",
       "  </thead>\n",
       "  <tbody>\n",
       "    <tr>\n",
       "      <th>0</th>\n",
       "      <td>2017-12-21</td>\n",
       "      <td>unarmed</td>\n",
       "      <td>6.0</td>\n",
       "      <td>M</td>\n",
       "      <td>W</td>\n",
       "      <td>TX</td>\n",
       "      <td>False</td>\n",
       "      <td>Not fleeing</td>\n",
       "      <td>False</td>\n",
       "      <td>2017</td>\n",
       "    </tr>\n",
       "    <tr>\n",
       "      <th>1</th>\n",
       "      <td>2015-01-06</td>\n",
       "      <td>unarmed</td>\n",
       "      <td>34.0</td>\n",
       "      <td>F</td>\n",
       "      <td>W</td>\n",
       "      <td>IA</td>\n",
       "      <td>False</td>\n",
       "      <td>Not fleeing</td>\n",
       "      <td>True</td>\n",
       "      <td>2015</td>\n",
       "    </tr>\n",
       "    <tr>\n",
       "      <th>2</th>\n",
       "      <td>2016-01-11</td>\n",
       "      <td>unarmed</td>\n",
       "      <td>12.0</td>\n",
       "      <td>F</td>\n",
       "      <td>W</td>\n",
       "      <td>PA</td>\n",
       "      <td>False</td>\n",
       "      <td>Not fleeing</td>\n",
       "      <td>False</td>\n",
       "      <td>2016</td>\n",
       "    </tr>\n",
       "    <tr>\n",
       "      <th>3</th>\n",
       "      <td>2016-09-14</td>\n",
       "      <td>toy weapon</td>\n",
       "      <td>13.0</td>\n",
       "      <td>M</td>\n",
       "      <td>B</td>\n",
       "      <td>OH</td>\n",
       "      <td>False</td>\n",
       "      <td>Foot</td>\n",
       "      <td>False</td>\n",
       "      <td>2016</td>\n",
       "    </tr>\n",
       "    <tr>\n",
       "      <th>4</th>\n",
       "      <td>2015-01-07</td>\n",
       "      <td>gun</td>\n",
       "      <td>37.0</td>\n",
       "      <td>M</td>\n",
       "      <td>B</td>\n",
       "      <td>LA</td>\n",
       "      <td>False</td>\n",
       "      <td>Foot</td>\n",
       "      <td>True</td>\n",
       "      <td>2015</td>\n",
       "    </tr>\n",
       "  </tbody>\n",
       "</table>\n",
       "</div>"
      ],
      "text/plain": [
       "        Date       Armed   Age Gender Race State  Sign of Mental Illness  \\\n",
       "0 2017-12-21     unarmed   6.0      M    W    TX                   False   \n",
       "1 2015-01-06     unarmed  34.0      F    W    IA                   False   \n",
       "2 2016-01-11     unarmed  12.0      F    W    PA                   False   \n",
       "3 2016-09-14  toy weapon  13.0      M    B    OH                   False   \n",
       "4 2015-01-07         gun  37.0      M    B    LA                   False   \n",
       "\n",
       "          Flee  Body Camera Year_bin  \n",
       "0  Not fleeing        False     2017  \n",
       "1  Not fleeing         True     2015  \n",
       "2  Not fleeing        False     2016  \n",
       "3         Foot        False     2016  \n",
       "4         Foot         True     2015  "
      ]
     },
     "execution_count": 11,
     "metadata": {},
     "output_type": "execute_result"
    }
   ],
   "source": [
    "group_names = [\"2015\", \"2016\", \"2017\", \"2018\"]\n",
    "bins = pd.cut(df['Date'], cut_points, labels=group_names)\n",
    "# Create the names for the four bins\n",
    "df[\"Year_bin\"] =bins\n",
    "df.head()\n",
    "\n"
   ]
  },
  {
   "cell_type": "code",
   "execution_count": 12,
   "metadata": {},
   "outputs": [
    {
     "data": {
      "image/png": "[encoded data removed]",
      "text/plain": [
       "<Figure size 432x288 with 2 Axes>"
      ]
     },
     "metadata": {
      "needs_background": "light"
     },
     "output_type": "display_data"
    }
   ],
   "source": [
    "helper = df.assign(Age=df.Age.astype('category').cat.codes).corr()\n",
    "\n",
    "helper = df.corr()\n",
    "helper\n",
    "\n",
    "#plt.matshow(helper.corr())\n",
    "#plt.show()\n",
    "corr = helper.corr()\n",
    "sns.heatmap(corr, \n",
    "            xticklabels=corr.columns.values,\n",
    "            yticklabels=corr.columns.values)\n",
    "\n",
    "plt.savefig('corrmatrix.png')\n"
   ]
  },
  {
   "cell_type": "code",
   "execution_count": 13,
   "metadata": {
    "scrolled": true
   },
   "outputs": [
    {
     "data": {
      "text/html": [
       "<div>\n",
       "<style scoped>\n",
       "    .dataframe tbody tr th:only-of-type {\n",
       "        vertical-align: middle;\n",
       "    }\n",
       "\n",
       "    .dataframe tbody tr th {\n",
       "        vertical-align: top;\n",
       "    }\n",
       "\n",
       "    .dataframe thead th {\n",
       "        text-align: right;\n",
       "    }\n",
       "</style>\n",
       "<table border=\"1\" class=\"dataframe\">\n",
       "  <thead>\n",
       "    <tr style=\"text-align: right;\">\n",
       "      <th></th>\n",
       "      <th>Date</th>\n",
       "      <th>Armed</th>\n",
       "      <th>Age</th>\n",
       "      <th>Gender</th>\n",
       "      <th>Race</th>\n",
       "      <th>State</th>\n",
       "      <th>Sign of Mental Illness</th>\n",
       "      <th>Flee</th>\n",
       "      <th>Body Camera</th>\n",
       "      <th>Year_bin</th>\n",
       "    </tr>\n",
       "  </thead>\n",
       "  <tbody>\n",
       "    <tr>\n",
       "      <th>0</th>\n",
       "      <td>2017-12-21</td>\n",
       "      <td>unarmed</td>\n",
       "      <td>6.0</td>\n",
       "      <td>M</td>\n",
       "      <td>W</td>\n",
       "      <td>TX</td>\n",
       "      <td>False</td>\n",
       "      <td>Not fleeing</td>\n",
       "      <td>False</td>\n",
       "      <td>2017</td>\n",
       "    </tr>\n",
       "    <tr>\n",
       "      <th>1</th>\n",
       "      <td>2015-01-06</td>\n",
       "      <td>unarmed</td>\n",
       "      <td>34.0</td>\n",
       "      <td>F</td>\n",
       "      <td>W</td>\n",
       "      <td>IA</td>\n",
       "      <td>False</td>\n",
       "      <td>Not fleeing</td>\n",
       "      <td>True</td>\n",
       "      <td>2015</td>\n",
       "    </tr>\n",
       "    <tr>\n",
       "      <th>2</th>\n",
       "      <td>2016-01-11</td>\n",
       "      <td>unarmed</td>\n",
       "      <td>12.0</td>\n",
       "      <td>F</td>\n",
       "      <td>W</td>\n",
       "      <td>PA</td>\n",
       "      <td>False</td>\n",
       "      <td>Not fleeing</td>\n",
       "      <td>False</td>\n",
       "      <td>2016</td>\n",
       "    </tr>\n",
       "    <tr>\n",
       "      <th>3</th>\n",
       "      <td>2016-09-14</td>\n",
       "      <td>toy weapon</td>\n",
       "      <td>13.0</td>\n",
       "      <td>M</td>\n",
       "      <td>B</td>\n",
       "      <td>OH</td>\n",
       "      <td>False</td>\n",
       "      <td>Foot</td>\n",
       "      <td>False</td>\n",
       "      <td>2016</td>\n",
       "    </tr>\n",
       "    <tr>\n",
       "      <th>4</th>\n",
       "      <td>2015-01-07</td>\n",
       "      <td>gun</td>\n",
       "      <td>37.0</td>\n",
       "      <td>M</td>\n",
       "      <td>B</td>\n",
       "      <td>LA</td>\n",
       "      <td>False</td>\n",
       "      <td>Foot</td>\n",
       "      <td>True</td>\n",
       "      <td>2015</td>\n",
       "    </tr>\n",
       "    <tr>\n",
       "      <th>5</th>\n",
       "      <td>2017-11-08</td>\n",
       "      <td>knife</td>\n",
       "      <td>14.0</td>\n",
       "      <td>M</td>\n",
       "      <td>N</td>\n",
       "      <td>WI</td>\n",
       "      <td>False</td>\n",
       "      <td>Not fleeing</td>\n",
       "      <td>False</td>\n",
       "      <td>2017</td>\n",
       "    </tr>\n",
       "    <tr>\n",
       "      <th>6</th>\n",
       "      <td>2015-01-08</td>\n",
       "      <td>shovel</td>\n",
       "      <td>42.0</td>\n",
       "      <td>M</td>\n",
       "      <td>W</td>\n",
       "      <td>UT</td>\n",
       "      <td>False</td>\n",
       "      <td>Not fleeing</td>\n",
       "      <td>True</td>\n",
       "      <td>2015</td>\n",
       "    </tr>\n",
       "    <tr>\n",
       "      <th>7</th>\n",
       "      <td>2015-06-14</td>\n",
       "      <td>gun</td>\n",
       "      <td>15.0</td>\n",
       "      <td>M</td>\n",
       "      <td>W</td>\n",
       "      <td>FL</td>\n",
       "      <td>True</td>\n",
       "      <td>Not fleeing</td>\n",
       "      <td>False</td>\n",
       "      <td>2015</td>\n",
       "    </tr>\n",
       "    <tr>\n",
       "      <th>9</th>\n",
       "      <td>2015-10-15</td>\n",
       "      <td>gun</td>\n",
       "      <td>15.0</td>\n",
       "      <td>M</td>\n",
       "      <td>H</td>\n",
       "      <td>FL</td>\n",
       "      <td>False</td>\n",
       "      <td>Car</td>\n",
       "      <td>False</td>\n",
       "      <td>2015</td>\n",
       "    </tr>\n",
       "    <tr>\n",
       "      <th>10</th>\n",
       "      <td>2016-04-19</td>\n",
       "      <td>gun</td>\n",
       "      <td>15.0</td>\n",
       "      <td>M</td>\n",
       "      <td>B</td>\n",
       "      <td>MO</td>\n",
       "      <td>False</td>\n",
       "      <td>Other</td>\n",
       "      <td>False</td>\n",
       "      <td>2016</td>\n",
       "    </tr>\n",
       "    <tr>\n",
       "      <th>12</th>\n",
       "      <td>2017-04-24</td>\n",
       "      <td>gun</td>\n",
       "      <td>15.0</td>\n",
       "      <td>M</td>\n",
       "      <td>B</td>\n",
       "      <td>TX</td>\n",
       "      <td>False</td>\n",
       "      <td>Not fleeing</td>\n",
       "      <td>False</td>\n",
       "      <td>2017</td>\n",
       "    </tr>\n",
       "    <tr>\n",
       "      <th>14</th>\n",
       "      <td>2017-08-03</td>\n",
       "      <td>gun</td>\n",
       "      <td>15.0</td>\n",
       "      <td>M</td>\n",
       "      <td>B</td>\n",
       "      <td>IN</td>\n",
       "      <td>False</td>\n",
       "      <td>Foot</td>\n",
       "      <td>False</td>\n",
       "      <td>2017</td>\n",
       "    </tr>\n",
       "    <tr>\n",
       "      <th>15</th>\n",
       "      <td>2017-09-15</td>\n",
       "      <td>crowbar</td>\n",
       "      <td>15.0</td>\n",
       "      <td>M</td>\n",
       "      <td>H</td>\n",
       "      <td>VA</td>\n",
       "      <td>False</td>\n",
       "      <td>Not fleeing</td>\n",
       "      <td>False</td>\n",
       "      <td>2017</td>\n",
       "    </tr>\n",
       "    <tr>\n",
       "      <th>17</th>\n",
       "      <td>2018-08-18</td>\n",
       "      <td>gun</td>\n",
       "      <td>15.0</td>\n",
       "      <td>M</td>\n",
       "      <td>H</td>\n",
       "      <td>CA</td>\n",
       "      <td>False</td>\n",
       "      <td>Other</td>\n",
       "      <td>False</td>\n",
       "      <td>2018</td>\n",
       "    </tr>\n",
       "    <tr>\n",
       "      <th>18</th>\n",
       "      <td>2018-01-17</td>\n",
       "      <td>unarmed</td>\n",
       "      <td>16.0</td>\n",
       "      <td>M</td>\n",
       "      <td>W</td>\n",
       "      <td>OH</td>\n",
       "      <td>False</td>\n",
       "      <td>Not fleeing</td>\n",
       "      <td>False</td>\n",
       "      <td>2018</td>\n",
       "    </tr>\n",
       "    <tr>\n",
       "      <th>19</th>\n",
       "      <td>2016-03-13</td>\n",
       "      <td>unarmed</td>\n",
       "      <td>16.0</td>\n",
       "      <td>M</td>\n",
       "      <td>H</td>\n",
       "      <td>TX</td>\n",
       "      <td>False</td>\n",
       "      <td>Car</td>\n",
       "      <td>False</td>\n",
       "      <td>2016</td>\n",
       "    </tr>\n",
       "    <tr>\n",
       "      <th>27</th>\n",
       "      <td>2016-02-24</td>\n",
       "      <td>knife</td>\n",
       "      <td>16.0</td>\n",
       "      <td>M</td>\n",
       "      <td>W</td>\n",
       "      <td>MO</td>\n",
       "      <td>True</td>\n",
       "      <td>Not fleeing</td>\n",
       "      <td>False</td>\n",
       "      <td>2016</td>\n",
       "    </tr>\n",
       "    <tr>\n",
       "      <th>38</th>\n",
       "      <td>2018-02-04</td>\n",
       "      <td>gun</td>\n",
       "      <td>16.0</td>\n",
       "      <td>M</td>\n",
       "      <td>B</td>\n",
       "      <td>CA</td>\n",
       "      <td>False</td>\n",
       "      <td>Foot</td>\n",
       "      <td>False</td>\n",
       "      <td>2018</td>\n",
       "    </tr>\n",
       "    <tr>\n",
       "      <th>39</th>\n",
       "      <td>2018-03-12</td>\n",
       "      <td>gun</td>\n",
       "      <td>16.0</td>\n",
       "      <td>M</td>\n",
       "      <td>W</td>\n",
       "      <td>MI</td>\n",
       "      <td>True</td>\n",
       "      <td>Foot</td>\n",
       "      <td>False</td>\n",
       "      <td>2018</td>\n",
       "    </tr>\n",
       "    <tr>\n",
       "      <th>41</th>\n",
       "      <td>2018-07-22</td>\n",
       "      <td>vehicle</td>\n",
       "      <td>16.0</td>\n",
       "      <td>M</td>\n",
       "      <td>W</td>\n",
       "      <td>OK</td>\n",
       "      <td>False</td>\n",
       "      <td>Car</td>\n",
       "      <td>False</td>\n",
       "      <td>2018</td>\n",
       "    </tr>\n",
       "  </tbody>\n",
       "</table>\n",
       "</div>"
      ],
      "text/plain": [
       "         Date       Armed   Age Gender Race State  Sign of Mental Illness  \\\n",
       "0  2017-12-21     unarmed   6.0      M    W    TX                   False   \n",
       "1  2015-01-06     unarmed  34.0      F    W    IA                   False   \n",
       "2  2016-01-11     unarmed  12.0      F    W    PA                   False   \n",
       "3  2016-09-14  toy weapon  13.0      M    B    OH                   False   \n",
       "4  2015-01-07         gun  37.0      M    B    LA                   False   \n",
       "5  2017-11-08       knife  14.0      M    N    WI                   False   \n",
       "6  2015-01-08      shovel  42.0      M    W    UT                   False   \n",
       "7  2015-06-14         gun  15.0      M    W    FL                    True   \n",
       "9  2015-10-15         gun  15.0      M    H    FL                   False   \n",
       "10 2016-04-19         gun  15.0      M    B    MO                   False   \n",
       "12 2017-04-24         gun  15.0      M    B    TX                   False   \n",
       "14 2017-08-03         gun  15.0      M    B    IN                   False   \n",
       "15 2017-09-15     crowbar  15.0      M    H    VA                   False   \n",
       "17 2018-08-18         gun  15.0      M    H    CA                   False   \n",
       "18 2018-01-17     unarmed  16.0      M    W    OH                   False   \n",
       "19 2016-03-13     unarmed  16.0      M    H    TX                   False   \n",
       "27 2016-02-24       knife  16.0      M    W    MO                    True   \n",
       "38 2018-02-04         gun  16.0      M    B    CA                   False   \n",
       "39 2018-03-12         gun  16.0      M    W    MI                    True   \n",
       "41 2018-07-22     vehicle  16.0      M    W    OK                   False   \n",
       "\n",
       "           Flee  Body Camera Year_bin  \n",
       "0   Not fleeing        False     2017  \n",
       "1   Not fleeing         True     2015  \n",
       "2   Not fleeing        False     2016  \n",
       "3          Foot        False     2016  \n",
       "4          Foot         True     2015  \n",
       "5   Not fleeing        False     2017  \n",
       "6   Not fleeing         True     2015  \n",
       "7   Not fleeing        False     2015  \n",
       "9           Car        False     2015  \n",
       "10        Other        False     2016  \n",
       "12  Not fleeing        False     2017  \n",
       "14         Foot        False     2017  \n",
       "15  Not fleeing        False     2017  \n",
       "17        Other        False     2018  \n",
       "18  Not fleeing        False     2018  \n",
       "19          Car        False     2016  \n",
       "27  Not fleeing        False     2016  \n",
       "38         Foot        False     2018  \n",
       "39         Foot        False     2018  \n",
       "41          Car        False     2018  "
      ]
     },
     "execution_count": 13,
     "metadata": {},
     "output_type": "execute_result"
    }
   ],
   "source": [
    "year_group = df.groupby(\"Year_bin\")\n",
    "year_group[\"Age\"].mean()\n",
    "#year_group.count()\n",
    "\n",
    "year_group.head()"
   ]
  },
  {
   "cell_type": "code",
   "execution_count": 14,
   "metadata": {
    "scrolled": true
   },
   "outputs": [
    {
     "data": {
      "text/plain": [
       "<matplotlib.axes._subplots.AxesSubplot at 0x1a1e5ba470>"
      ]
     },
     "execution_count": 14,
     "metadata": {},
     "output_type": "execute_result"
    },
    {
     "data": {
      "image/png": "[encoded data removed]",
      "text/plain": [
       "<Figure size 432x288 with 2 Axes>"
      ]
     },
     "metadata": {
      "needs_background": "light"
     },
     "output_type": "display_data"
    }
   ],
   "source": [
    "helper = year_group.corr()\n",
    "\n",
    "helper\n",
    "corr = helper.corr()\n",
    "sns.heatmap(corr, \n",
    "            xticklabels=corr.columns.values,\n",
    "            yticklabels=corr.columns.values)\n"
   ]
  },
  {
   "cell_type": "code",
   "execution_count": 15,
   "metadata": {},
   "outputs": [
    {
     "data": {
      "text/plain": [
       "Text(0, 0.5, 'Body Cam Count')"
      ]
     },
     "execution_count": 15,
     "metadata": {},
     "output_type": "execute_result"
    },
    {
     "data": {
      "image/png": "[encoded data removed]",
      "text/plain": [
       "<Figure size 432x288 with 1 Axes>"
      ]
     },
     "metadata": {
      "needs_background": "light"
     },
     "output_type": "display_data"
    }
   ],
   "source": [
    "Body_cam2015 = df.loc[df['Year_bin'] == '2015']\n",
    "Body_cam2015 = Body_cam2015.groupby(\"Body Camera\").count()\n",
    "Body_cam2015.head()\n",
    "\n",
    "Body_cam2015['Year_bin'].plot.bar()\n",
    "\n",
    "plt.title(\"Body Camera Count for 2015\")\n",
    "plt.xlabel(\"\")\n",
    "plt.ylabel(\"Body Cam Count\")\n",
    "\n",
    "#set_xticks(1)\n",
    "\n",
    "#set_xticklabels('No Body Camera')\n",
    "# %8.6"
   ]
  },
  {
   "cell_type": "code",
   "execution_count": 16,
   "metadata": {},
   "outputs": [
    {
     "data": {
      "text/plain": [
       "<matplotlib.axes._subplots.AxesSubplot at 0x1a1e8740f0>"
      ]
     },
     "execution_count": 16,
     "metadata": {},
     "output_type": "execute_result"
    },
    {
     "data": {
      "image/png": "[encoded data removed]",
      "text/plain": [
       "<Figure size 432x288 with 1 Axes>"
      ]
     },
     "metadata": {
      "needs_background": "light"
     },
     "output_type": "display_data"
    }
   ],
   "source": [
    "Body_cam2016 = df.loc[df['Year_bin'] == '2016']\n",
    "\n",
    "\n",
    "Body_cam2016 = Body_cam2016.groupby(\"Body Camera\").count()\n",
    "\n",
    "Body_cam2016.head()\n",
    "Body_cam2016['Year_bin'].plot.bar()\n",
    "# %18.6"
   ]
  },
  {
   "cell_type": "code",
   "execution_count": null,
   "metadata": {},
   "outputs": [],
   "source": []
  },
  {
   "cell_type": "code",
   "execution_count": 17,
   "metadata": {},
   "outputs": [
    {
     "data": {
      "text/plain": [
       "<matplotlib.axes._subplots.AxesSubplot at 0x1a1e8e07b8>"
      ]
     },
     "execution_count": 17,
     "metadata": {},
     "output_type": "execute_result"
    },
    {
     "data": {
      "image/png": "[encoded data removed]",
      "text/plain": [
       "<Figure size 432x288 with 1 Axes>"
      ]
     },
     "metadata": {
      "needs_background": "light"
     },
     "output_type": "display_data"
    }
   ],
   "source": [
    "#compare body camera use by year \n",
    "\n",
    "#Body_Cam2015 = df.groupby(['Year_bin' = 2015,'Body Camera']).size().reset_index().groupby('Body Camera')[[0]].max()\n",
    "#Body_Cam2015\n",
    "\n",
    "#Body_Cam2016 = df.groupby(['Year_bin','Body Camera']).size().reset_index().groupby('Body Camera')[[0]].max()\n",
    "\n",
    "Body_cam2017 = df.loc[df['Year_bin'] == '2017']\n",
    "\n",
    "Body_cam2017 = Body_cam2017.groupby(\"Body Camera\").count()\n",
    "Body_cam2017\n",
    "# %12.1\n",
    "Body_cam2017['Year_bin'].plot.bar()\n"
   ]
  },
  {
   "cell_type": "code",
   "execution_count": 18,
   "metadata": {},
   "outputs": [
    {
     "data": {
      "text/plain": [
       "<matplotlib.axes._subplots.AxesSubplot at 0x1a1e9a6208>"
      ]
     },
     "execution_count": 18,
     "metadata": {},
     "output_type": "execute_result"
    },
    {
     "data": {
      "image/png": "[encoded data removed]",
      "text/plain": [
       "<Figure size 432x288 with 1 Axes>"
      ]
     },
     "metadata": {
      "needs_background": "light"
     },
     "output_type": "display_data"
    }
   ],
   "source": [
    "Body_cam2018 = df.loc[df['Year_bin'] == '2018']\n",
    "\n",
    "Body_cam2018 = Body_cam2018.groupby(\"Body Camera\").count()\n",
    "#Body_cam2018\n",
    "# %13.7\n",
    "Body_cam2018['Year_bin'].plot.bar()\n"
   ]
  },
  {
   "cell_type": "code",
   "execution_count": null,
   "metadata": {},
   "outputs": [],
   "source": []
  }
 ],
 "metadata": {
  "kernelspec": {
   "display_name": "Python 3",
   "language": "python",
   "name": "python3"
  },
  "language_info": {
   "codemirror_mode": {
    "name": "ipython",
    "version": 3
   },
   "file_extension": ".py",
   "mimetype": "text/x-python",
   "name": "python",
   "nbconvert_exporter": "python",
   "pygments_lexer": "ipython3",
   "version": "3.7.1"
  }
 },
 "nbformat": 4,
 "nbformat_minor": 2
}
